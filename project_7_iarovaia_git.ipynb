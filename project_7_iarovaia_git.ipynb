{
 "cells": [
  {
   "cell_type": "markdown",
   "id": "d5ab0ced",
   "metadata": {},
   "source": [
    "## Исходные данные\n"
   ]
  },
  {
   "cell_type": "markdown",
   "id": "1beec087",
   "metadata": {},
   "source": [
    "Дано 3 датасета - с данными геологоразведки трёх регионов\n",
    "\n",
    " - id — уникальный идентификатор скважины;\n",
    " - f0, f1, f2 — три признака точек;\n",
    " - product — объём запасов в скважине (тыс. баррелей)."
   ]
  },
  {
   "cell_type": "markdown",
   "id": "04bbd3fa",
   "metadata": {},
   "source": [
    "# Задача"
   ]
  },
  {
   "cell_type": "markdown",
   "id": "9df5f6d6",
   "metadata": {},
   "source": [
    "**Принять решение, где бурить новую скважину.**\n",
    "\n",
    "Даны пробы нефти в трёх регионах. Характеристики для каждой скважины в регионе уже известны. Построить модель для определения региона, где добыча принесёт наибольшую прибыль. Проанализировать возможную прибыль и риски техникой Bootstrap."
   ]
  },
  {
   "cell_type": "markdown",
   "id": "74706def",
   "metadata": {},
   "source": [
    "## Условия задачи "
   ]
  },
  {
   "cell_type": "markdown",
   "id": "ee89d60e",
   "metadata": {},
   "source": [
    " - Для обучения модели подходит только линейная регрессия (остальные — недостаточно предсказуемые).\n",
    " - При разведке региона исследуют 500 точек, из которых с помощью машинного обучения выбирают 200 лучших для разработки.\n",
    " - Бюджет на разработку скважин в регионе — 10 млрд рублей.\n",
    " - При нынешних ценах один баррель сырья приносит 450 рублей дохода. Доход с каждой единицы продукта составляет 450 тыс. рублей, поскольку объём указан в тысячах баррелей.\n",
    " - После оценки рисков нужно оставить лишь те регионы, в которых вероятность убытков меньше 2.5%. Среди них выбирают регион с наибольшей средней прибылью."
   ]
  },
  {
   "cell_type": "markdown",
   "id": "94931a4f",
   "metadata": {},
   "source": [
    "# Ход работы"
   ]
  },
  {
   "cell_type": "code",
   "execution_count": 36,
   "id": "5a0275cc",
   "metadata": {},
   "outputs": [],
   "source": [
    "# данные, необходимые для расчетов проекта\n",
    "\n",
    "BUDGET = 10**10             # общий бюджет\n",
    "BAR_INCOME = 45 * 10**4    # доход с барреля по рынку (умножено на 1000, т.к запас в данных дан в тысячах баррелей)"
   ]
  },
  {
   "cell_type": "code",
   "execution_count": 1,
   "id": "faecfa43",
   "metadata": {},
   "outputs": [],
   "source": [
    "# импорт библиотек\n",
    "\n",
    "import pandas as pd\n",
    "import numpy as np\n",
    "import seaborn as sns\n",
    "import matplotlib.pyplot as plt\n",
    "\n",
    "from sklearn.model_selection import train_test_split\n",
    "from sklearn.preprocessing import StandardScaler\n",
    "from sklearn.linear_model import LinearRegression\n",
    "from sklearn.metrics import mean_squared_error\n",
    "\n",
    "from scipy import stats as st"
   ]
  },
  {
   "cell_type": "code",
   "execution_count": 3,
   "id": "0dd82394",
   "metadata": {},
   "outputs": [],
   "source": [
    "# загружаем датасеты\n",
    "\n",
    "try:\n",
    "    data_0 = pd.read_csv('geo_data_0')\n",
    "    data_1 = pd.read_csv('geo_data_1')\n",
    "    data_2 = pd.read_csv('geo_data_2')\n",
    "except:\n",
    "    data_0 = pd.read_csv('https://code.s3.yandex.net/datasets/geo_data_0.csv')\n",
    "    data_1 = pd.read_csv('https://code.s3.yandex.net/datasets/geo_data_1.csv')\n",
    "    data_2 = pd.read_csv('https://code.s3.yandex.net/datasets/geo_data_2.csv')"
   ]
  },
  {
   "cell_type": "markdown",
   "id": "1b981af5",
   "metadata": {},
   "source": [
    "## Обзор данных  "
   ]
  },
  {
   "cell_type": "code",
   "execution_count": 4,
   "id": "c5b2b080",
   "metadata": {},
   "outputs": [],
   "source": [
    "# проверим данные"
   ]
  },
  {
   "cell_type": "code",
   "execution_count": 5,
   "id": "ef6fbc10",
   "metadata": {},
   "outputs": [
    {
     "data": {
      "text/html": [
       "<div>\n",
       "<style scoped>\n",
       "    .dataframe tbody tr th:only-of-type {\n",
       "        vertical-align: middle;\n",
       "    }\n",
       "\n",
       "    .dataframe tbody tr th {\n",
       "        vertical-align: top;\n",
       "    }\n",
       "\n",
       "    .dataframe thead th {\n",
       "        text-align: right;\n",
       "    }\n",
       "</style>\n",
       "<table border=\"1\" class=\"dataframe\">\n",
       "  <thead>\n",
       "    <tr style=\"text-align: right;\">\n",
       "      <th></th>\n",
       "      <th>id</th>\n",
       "      <th>f0</th>\n",
       "      <th>f1</th>\n",
       "      <th>f2</th>\n",
       "      <th>product</th>\n",
       "    </tr>\n",
       "  </thead>\n",
       "  <tbody>\n",
       "    <tr>\n",
       "      <th>0</th>\n",
       "      <td>txEyH</td>\n",
       "      <td>0.705745</td>\n",
       "      <td>-0.497823</td>\n",
       "      <td>1.22117</td>\n",
       "      <td>105.280062</td>\n",
       "    </tr>\n",
       "    <tr>\n",
       "      <th>1</th>\n",
       "      <td>2acmU</td>\n",
       "      <td>1.334711</td>\n",
       "      <td>-0.340164</td>\n",
       "      <td>4.36508</td>\n",
       "      <td>73.037750</td>\n",
       "    </tr>\n",
       "  </tbody>\n",
       "</table>\n",
       "</div>"
      ],
      "text/plain": [
       "      id        f0        f1       f2     product\n",
       "0  txEyH  0.705745 -0.497823  1.22117  105.280062\n",
       "1  2acmU  1.334711 -0.340164  4.36508   73.037750"
      ]
     },
     "execution_count": 5,
     "metadata": {},
     "output_type": "execute_result"
    }
   ],
   "source": [
    "data_0.head(2)"
   ]
  },
  {
   "cell_type": "code",
   "execution_count": 6,
   "id": "7f2859dc",
   "metadata": {},
   "outputs": [
    {
     "data": {
      "text/html": [
       "<div>\n",
       "<style scoped>\n",
       "    .dataframe tbody tr th:only-of-type {\n",
       "        vertical-align: middle;\n",
       "    }\n",
       "\n",
       "    .dataframe tbody tr th {\n",
       "        vertical-align: top;\n",
       "    }\n",
       "\n",
       "    .dataframe thead th {\n",
       "        text-align: right;\n",
       "    }\n",
       "</style>\n",
       "<table border=\"1\" class=\"dataframe\">\n",
       "  <thead>\n",
       "    <tr style=\"text-align: right;\">\n",
       "      <th></th>\n",
       "      <th>id</th>\n",
       "      <th>f0</th>\n",
       "      <th>f1</th>\n",
       "      <th>f2</th>\n",
       "      <th>product</th>\n",
       "    </tr>\n",
       "  </thead>\n",
       "  <tbody>\n",
       "    <tr>\n",
       "      <th>0</th>\n",
       "      <td>kBEdx</td>\n",
       "      <td>-15.001348</td>\n",
       "      <td>-8.276000</td>\n",
       "      <td>-0.005876</td>\n",
       "      <td>3.179103</td>\n",
       "    </tr>\n",
       "    <tr>\n",
       "      <th>1</th>\n",
       "      <td>62mP7</td>\n",
       "      <td>14.272088</td>\n",
       "      <td>-3.475083</td>\n",
       "      <td>0.999183</td>\n",
       "      <td>26.953261</td>\n",
       "    </tr>\n",
       "  </tbody>\n",
       "</table>\n",
       "</div>"
      ],
      "text/plain": [
       "      id         f0        f1        f2    product\n",
       "0  kBEdx -15.001348 -8.276000 -0.005876   3.179103\n",
       "1  62mP7  14.272088 -3.475083  0.999183  26.953261"
      ]
     },
     "execution_count": 6,
     "metadata": {},
     "output_type": "execute_result"
    }
   ],
   "source": [
    "data_1.head(2)"
   ]
  },
  {
   "cell_type": "code",
   "execution_count": 7,
   "id": "355fb0e5",
   "metadata": {},
   "outputs": [
    {
     "data": {
      "text/html": [
       "<div>\n",
       "<style scoped>\n",
       "    .dataframe tbody tr th:only-of-type {\n",
       "        vertical-align: middle;\n",
       "    }\n",
       "\n",
       "    .dataframe tbody tr th {\n",
       "        vertical-align: top;\n",
       "    }\n",
       "\n",
       "    .dataframe thead th {\n",
       "        text-align: right;\n",
       "    }\n",
       "</style>\n",
       "<table border=\"1\" class=\"dataframe\">\n",
       "  <thead>\n",
       "    <tr style=\"text-align: right;\">\n",
       "      <th></th>\n",
       "      <th>id</th>\n",
       "      <th>f0</th>\n",
       "      <th>f1</th>\n",
       "      <th>f2</th>\n",
       "      <th>product</th>\n",
       "    </tr>\n",
       "  </thead>\n",
       "  <tbody>\n",
       "    <tr>\n",
       "      <th>0</th>\n",
       "      <td>fwXo0</td>\n",
       "      <td>-1.146987</td>\n",
       "      <td>0.963328</td>\n",
       "      <td>-0.828965</td>\n",
       "      <td>27.758673</td>\n",
       "    </tr>\n",
       "    <tr>\n",
       "      <th>1</th>\n",
       "      <td>WJtFt</td>\n",
       "      <td>0.262778</td>\n",
       "      <td>0.269839</td>\n",
       "      <td>-2.530187</td>\n",
       "      <td>56.069697</td>\n",
       "    </tr>\n",
       "  </tbody>\n",
       "</table>\n",
       "</div>"
      ],
      "text/plain": [
       "      id        f0        f1        f2    product\n",
       "0  fwXo0 -1.146987  0.963328 -0.828965  27.758673\n",
       "1  WJtFt  0.262778  0.269839 -2.530187  56.069697"
      ]
     },
     "execution_count": 7,
     "metadata": {},
     "output_type": "execute_result"
    }
   ],
   "source": [
    "data_2.head(2)"
   ]
  },
  {
   "cell_type": "code",
   "execution_count": 8,
   "id": "53843856",
   "metadata": {},
   "outputs": [
    {
     "name": "stdout",
     "output_type": "stream",
     "text": [
      "<class 'pandas.core.frame.DataFrame'>\n",
      "RangeIndex: 100000 entries, 0 to 99999\n",
      "Data columns (total 5 columns):\n",
      " #   Column   Non-Null Count   Dtype  \n",
      "---  ------   --------------   -----  \n",
      " 0   id       100000 non-null  object \n",
      " 1   f0       100000 non-null  float64\n",
      " 2   f1       100000 non-null  float64\n",
      " 3   f2       100000 non-null  float64\n",
      " 4   product  100000 non-null  float64\n",
      "dtypes: float64(4), object(1)\n",
      "memory usage: 3.8+ MB\n"
     ]
    }
   ],
   "source": [
    "data_0.info()"
   ]
  },
  {
   "cell_type": "code",
   "execution_count": 9,
   "id": "138591d7",
   "metadata": {},
   "outputs": [
    {
     "name": "stdout",
     "output_type": "stream",
     "text": [
      "<class 'pandas.core.frame.DataFrame'>\n",
      "RangeIndex: 100000 entries, 0 to 99999\n",
      "Data columns (total 5 columns):\n",
      " #   Column   Non-Null Count   Dtype  \n",
      "---  ------   --------------   -----  \n",
      " 0   id       100000 non-null  object \n",
      " 1   f0       100000 non-null  float64\n",
      " 2   f1       100000 non-null  float64\n",
      " 3   f2       100000 non-null  float64\n",
      " 4   product  100000 non-null  float64\n",
      "dtypes: float64(4), object(1)\n",
      "memory usage: 3.8+ MB\n"
     ]
    }
   ],
   "source": [
    "data_1.info()"
   ]
  },
  {
   "cell_type": "code",
   "execution_count": 10,
   "id": "d990c15e",
   "metadata": {},
   "outputs": [
    {
     "name": "stdout",
     "output_type": "stream",
     "text": [
      "<class 'pandas.core.frame.DataFrame'>\n",
      "RangeIndex: 100000 entries, 0 to 99999\n",
      "Data columns (total 5 columns):\n",
      " #   Column   Non-Null Count   Dtype  \n",
      "---  ------   --------------   -----  \n",
      " 0   id       100000 non-null  object \n",
      " 1   f0       100000 non-null  float64\n",
      " 2   f1       100000 non-null  float64\n",
      " 3   f2       100000 non-null  float64\n",
      " 4   product  100000 non-null  float64\n",
      "dtypes: float64(4), object(1)\n",
      "memory usage: 3.8+ MB\n"
     ]
    }
   ],
   "source": [
    "data_2.info()"
   ]
  },
  {
   "cell_type": "code",
   "execution_count": 11,
   "id": "30dc78d7",
   "metadata": {},
   "outputs": [],
   "source": [
    "# посмотрим на распределение целегового признака \\product\\"
   ]
  },
  {
   "cell_type": "code",
   "execution_count": 12,
   "id": "95d07cf8",
   "metadata": {},
   "outputs": [
    {
     "data": {
      "text/plain": [
       "<AxesSubplot:title={'center':'Распределение сырья региона №1, тыс баррелей'}, ylabel='Frequency'>"
      ]
     },
     "execution_count": 12,
     "metadata": {},
     "output_type": "execute_result"
    },
    {
     "data": {
      "image/png": "[encoded data removed]",
      "text/plain": [
       "<Figure size 576x216 with 1 Axes>"
      ]
     },
     "metadata": {
      "needs_background": "light"
     },
     "output_type": "display_data"
    }
   ],
   "source": [
    "data_0['product'].plot(title='Распределение сырья региона №1, тыс баррелей', \n",
    "                       kind='hist', \n",
    "                       bins=10,\n",
    "                       grid=True,\n",
    "                       figsize=(8,3),\n",
    "                       color='green',\n",
    "                       alpha=0.7\n",
    "                      )"
   ]
  },
  {
   "cell_type": "code",
   "execution_count": 13,
   "id": "cd8398e8",
   "metadata": {},
   "outputs": [
    {
     "data": {
      "text/plain": [
       "<AxesSubplot:title={'center':'Распределение сырья региона №2, тыс баррелей'}, ylabel='Frequency'>"
      ]
     },
     "execution_count": 13,
     "metadata": {},
     "output_type": "execute_result"
    },
    {
     "data": {
      "image/png": "[encoded data removed]",
      "text/plain": [
       "<Figure size 576x216 with 1 Axes>"
      ]
     },
     "metadata": {
      "needs_background": "light"
     },
     "output_type": "display_data"
    }
   ],
   "source": [
    "data_1['product'].plot(title='Распределение сырья региона №2, тыс баррелей', \n",
    "                       kind='hist', \n",
    "                       bins=10,\n",
    "                       grid=True,\n",
    "                       figsize=(8,3),\n",
    "                       color='blue',\n",
    "                       alpha=0.7\n",
    "                      )"
   ]
  },
  {
   "cell_type": "code",
   "execution_count": 14,
   "id": "3119e7bc",
   "metadata": {},
   "outputs": [
    {
     "data": {
      "text/plain": [
       "<AxesSubplot:title={'center':'Распределение сырья региона №3, тыс баррелей'}, ylabel='Frequency'>"
      ]
     },
     "execution_count": 14,
     "metadata": {},
     "output_type": "execute_result"
    },
    {
     "data": {
      "image/png": "[encoded data removed]",
      "text/plain": [
       "<Figure size 576x216 with 1 Axes>"
      ]
     },
     "metadata": {
      "needs_background": "light"
     },
     "output_type": "display_data"
    }
   ],
   "source": [
    "data_2['product'].plot(title='Распределение сырья региона №3, тыс баррелей', \n",
    "                       kind='hist', \n",
    "                       bins=10,\n",
    "                       grid=True,\n",
    "                       figsize=(8,3),\n",
    "                       color='orange',\n",
    "                       alpha=0.7\n",
    "                      )"
   ]
  },
  {
   "cell_type": "markdown",
   "id": "2cbdf3ed",
   "metadata": {},
   "source": [
    "<div class=\"alert alert-block alert-info\">\n",
    "    \n",
    " - Во втором регионе видно странное распределение сырья - большое его кол-во находится либо на минимуме, либо на максимуме\n",
    " - Первый и третий регион показали сходное нормальное распределение\n",
    "    "
   ]
  },
  {
   "cell_type": "code",
   "execution_count": 15,
   "id": "d0e8279f",
   "metadata": {},
   "outputs": [],
   "source": [
    "# посмотрим на корреляцию признаков"
   ]
  },
  {
   "cell_type": "code",
   "execution_count": 16,
   "id": "b6c17d64",
   "metadata": {},
   "outputs": [
    {
     "data": {
      "text/plain": [
       "Text(0.5, 1.0, 'Корреляция признаков первого региона')"
      ]
     },
     "execution_count": 16,
     "metadata": {},
     "output_type": "execute_result"
    },
    {
     "data": {
      "image/png": "[encoded data removed]",
      "text/plain": [
       "<Figure size 432x288 with 2 Axes>"
      ]
     },
     "metadata": {
      "needs_background": "light"
     },
     "output_type": "display_data"
    }
   ],
   "source": [
    "matrix_0 = np.triu(data_0.drop(columns=['id','product']).corr())\n",
    "sns.heatmap(data_0.drop(columns=['id','product']).corr(), mask=matrix_0, annot = True)\n",
    "plt.title('Корреляция признаков первого региона')"
   ]
  },
  {
   "cell_type": "code",
   "execution_count": 17,
   "id": "bf012e8f",
   "metadata": {},
   "outputs": [
    {
     "data": {
      "text/plain": [
       "Text(0.5, 1.0, 'Корреляция признаков второго региона')"
      ]
     },
     "execution_count": 17,
     "metadata": {},
     "output_type": "execute_result"
    },
    {
     "data": {
      "image/png": "[encoded data removed]",
      "text/plain": [
       "<Figure size 432x288 with 2 Axes>"
      ]
     },
     "metadata": {
      "needs_background": "light"
     },
     "output_type": "display_data"
    }
   ],
   "source": [
    "matrix_1 = np.triu(data_1.drop(columns=['id','product']).corr())\n",
    "sns.heatmap(data_1.drop(columns=['id','product']).corr(), mask=matrix_1, annot = True)\n",
    "plt.title('Корреляция признаков второго региона')"
   ]
  },
  {
   "cell_type": "code",
   "execution_count": 18,
   "id": "69111720",
   "metadata": {},
   "outputs": [
    {
     "data": {
      "text/plain": [
       "Text(0.5, 1.0, 'Корреляция признаков третьего региона')"
      ]
     },
     "execution_count": 18,
     "metadata": {},
     "output_type": "execute_result"
    },
    {
     "data": {
      "image/png": "[encoded data removed]",
      "text/plain": [
       "<Figure size 432x288 with 2 Axes>"
      ]
     },
     "metadata": {
      "needs_background": "light"
     },
     "output_type": "display_data"
    }
   ],
   "source": [
    "matrix_2 = np.triu(data_2.drop(columns=['id','product']).corr())\n",
    "sns.heatmap(data_2.drop(columns=['id','product']).corr(), mask=matrix_2, annot = True)\n",
    "plt.title('Корреляция признаков третьего региона')"
   ]
  },
  {
   "cell_type": "markdown",
   "id": "1abdff1e",
   "metadata": {},
   "source": [
    "<div class=\"alert alert-block alert-info\">\n",
    "    \n",
    "    \n",
    " - Корреляционная связь признаках во всех регионах достаточно далека от 1 и -1, поэтому можно использовать их все для построения модели\n",
    " - Самая сильная корреляционная связь (-0.4) между признаками f0 и f1 в первом регионе"
   ]
  },
  {
   "cell_type": "markdown",
   "id": "f281848c",
   "metadata": {},
   "source": [
    "<div class=\"alert alert-block alert-warning\">\n",
    "    \n",
    "**ИТОГ ОБЗОРА ДАННЫХ**\n",
    "    \n",
    " - В данных нет пропусков, тип данных соответствует ожидаемому\n",
    " - Во втором регионе распределение сырья сосредоточено на минимуме и на максимуме\n",
    " - Необходимо проверить данные на наличие дубликатов\n",
    " - Для дальнейшей работы линейной регрессии исключим колонку id - чтобы работать только с числовам типом данных\n",
    " - В данных для обучения нет сильного разброса - стандартизацию данных можно не выполнять.\n",
    " - Показатели корреляции признаков позволяют использовать их все для построения модели"
   ]
  },
  {
   "cell_type": "markdown",
   "id": "42fe1bb4",
   "metadata": {},
   "source": [
    "## Предобработка "
   ]
  },
  {
   "cell_type": "code",
   "execution_count": 19,
   "id": "f93b6d4e",
   "metadata": {},
   "outputs": [
    {
     "name": "stdout",
     "output_type": "stream",
     "text": [
      "Полные дубликаты в таблицах\n",
      "1 регион 0\n",
      "2 регион 0\n",
      "3 регион 0\n",
      "\n",
      "Дубликаты id\n",
      "1 регион 10\n",
      "2 регион 4\n",
      "3 регион 4\n"
     ]
    }
   ],
   "source": [
    "# проверка на наличие дубликатов\n",
    "\n",
    "print('Полные дубликаты в таблицах')\n",
    "print('1 регион', data_0.duplicated().sum())\n",
    "print('2 регион', data_1.duplicated().sum())\n",
    "print('3 регион', data_2.duplicated().sum())\n",
    "\n",
    "print('\\nДубликаты id')\n",
    "print('1 регион', data_0.shape[0] - data_0['id'].nunique())\n",
    "print('2 регион', data_1.shape[0] - data_1['id'].nunique())\n",
    "print('3 регион', data_2.shape[0] - data_2['id'].nunique())"
   ]
  },
  {
   "cell_type": "markdown",
   "id": "69b5efa3",
   "metadata": {},
   "source": [
    "<div class=\"alert alert-block alert-info\">\n",
    "    \n",
    "Необходимо удалить повторяющиеся строчки в колонке id - 10 в первом регионе и по 4 во втором и третьем"
   ]
  },
  {
   "cell_type": "code",
   "execution_count": 20,
   "id": "1b47f98d",
   "metadata": {},
   "outputs": [
    {
     "name": "stdout",
     "output_type": "stream",
     "text": [
      "\n",
      "Дубликаты id\n",
      "1 регион 0\n",
      "2 регион 0\n",
      "3 регион 0\n"
     ]
    }
   ],
   "source": [
    "# удаление дубликатов\n",
    "\n",
    "data_0 = data_0.drop_duplicates(subset=['id'], keep='first')\n",
    "data_1 = data_1.drop_duplicates(subset=['id'], keep='first')\n",
    "data_2 = data_2.drop_duplicates(subset=['id'], keep='first')\n",
    "\n",
    "# проверка данных\n",
    "\n",
    "print('\\nДубликаты id')\n",
    "print('1 регион', data_0.shape[0] - data_0['id'].nunique())\n",
    "print('2 регион', data_1.shape[0] - data_1['id'].nunique())\n",
    "print('3 регион', data_2.shape[0] - data_2['id'].nunique())"
   ]
  },
  {
   "cell_type": "code",
   "execution_count": 21,
   "id": "5416a686",
   "metadata": {},
   "outputs": [],
   "source": [
    "# удаление колонки id\n",
    "\n",
    "data_0, data_1, data_2 = (\n",
    "    data_0.drop(columns=['id'], axis=1),\n",
    "    data_1.drop(columns=['id'], axis=1),\n",
    "    data_2.drop(columns=['id'], axis=1)\n",
    ")"
   ]
  },
  {
   "cell_type": "code",
   "execution_count": 22,
   "id": "2065dd23",
   "metadata": {},
   "outputs": [
    {
     "data": {
      "text/html": [
       "<div>\n",
       "<style scoped>\n",
       "    .dataframe tbody tr th:only-of-type {\n",
       "        vertical-align: middle;\n",
       "    }\n",
       "\n",
       "    .dataframe tbody tr th {\n",
       "        vertical-align: top;\n",
       "    }\n",
       "\n",
       "    .dataframe thead th {\n",
       "        text-align: right;\n",
       "    }\n",
       "</style>\n",
       "<table border=\"1\" class=\"dataframe\">\n",
       "  <thead>\n",
       "    <tr style=\"text-align: right;\">\n",
       "      <th></th>\n",
       "      <th>f0</th>\n",
       "      <th>f1</th>\n",
       "      <th>f2</th>\n",
       "      <th>product</th>\n",
       "    </tr>\n",
       "  </thead>\n",
       "  <tbody>\n",
       "    <tr>\n",
       "      <th>0</th>\n",
       "      <td>0.705745</td>\n",
       "      <td>-0.497823</td>\n",
       "      <td>1.22117</td>\n",
       "      <td>105.280062</td>\n",
       "    </tr>\n",
       "    <tr>\n",
       "      <th>1</th>\n",
       "      <td>1.334711</td>\n",
       "      <td>-0.340164</td>\n",
       "      <td>4.36508</td>\n",
       "      <td>73.037750</td>\n",
       "    </tr>\n",
       "  </tbody>\n",
       "</table>\n",
       "</div>"
      ],
      "text/plain": [
       "         f0        f1       f2     product\n",
       "0  0.705745 -0.497823  1.22117  105.280062\n",
       "1  1.334711 -0.340164  4.36508   73.037750"
      ]
     },
     "metadata": {},
     "output_type": "display_data"
    },
    {
     "data": {
      "text/html": [
       "<div>\n",
       "<style scoped>\n",
       "    .dataframe tbody tr th:only-of-type {\n",
       "        vertical-align: middle;\n",
       "    }\n",
       "\n",
       "    .dataframe tbody tr th {\n",
       "        vertical-align: top;\n",
       "    }\n",
       "\n",
       "    .dataframe thead th {\n",
       "        text-align: right;\n",
       "    }\n",
       "</style>\n",
       "<table border=\"1\" class=\"dataframe\">\n",
       "  <thead>\n",
       "    <tr style=\"text-align: right;\">\n",
       "      <th></th>\n",
       "      <th>f0</th>\n",
       "      <th>f1</th>\n",
       "      <th>f2</th>\n",
       "      <th>product</th>\n",
       "    </tr>\n",
       "  </thead>\n",
       "  <tbody>\n",
       "    <tr>\n",
       "      <th>0</th>\n",
       "      <td>-15.001348</td>\n",
       "      <td>-8.276000</td>\n",
       "      <td>-0.005876</td>\n",
       "      <td>3.179103</td>\n",
       "    </tr>\n",
       "    <tr>\n",
       "      <th>1</th>\n",
       "      <td>14.272088</td>\n",
       "      <td>-3.475083</td>\n",
       "      <td>0.999183</td>\n",
       "      <td>26.953261</td>\n",
       "    </tr>\n",
       "  </tbody>\n",
       "</table>\n",
       "</div>"
      ],
      "text/plain": [
       "          f0        f1        f2    product\n",
       "0 -15.001348 -8.276000 -0.005876   3.179103\n",
       "1  14.272088 -3.475083  0.999183  26.953261"
      ]
     },
     "metadata": {},
     "output_type": "display_data"
    },
    {
     "data": {
      "text/html": [
       "<div>\n",
       "<style scoped>\n",
       "    .dataframe tbody tr th:only-of-type {\n",
       "        vertical-align: middle;\n",
       "    }\n",
       "\n",
       "    .dataframe tbody tr th {\n",
       "        vertical-align: top;\n",
       "    }\n",
       "\n",
       "    .dataframe thead th {\n",
       "        text-align: right;\n",
       "    }\n",
       "</style>\n",
       "<table border=\"1\" class=\"dataframe\">\n",
       "  <thead>\n",
       "    <tr style=\"text-align: right;\">\n",
       "      <th></th>\n",
       "      <th>f0</th>\n",
       "      <th>f1</th>\n",
       "      <th>f2</th>\n",
       "      <th>product</th>\n",
       "    </tr>\n",
       "  </thead>\n",
       "  <tbody>\n",
       "    <tr>\n",
       "      <th>0</th>\n",
       "      <td>-1.146987</td>\n",
       "      <td>0.963328</td>\n",
       "      <td>-0.828965</td>\n",
       "      <td>27.758673</td>\n",
       "    </tr>\n",
       "    <tr>\n",
       "      <th>1</th>\n",
       "      <td>0.262778</td>\n",
       "      <td>0.269839</td>\n",
       "      <td>-2.530187</td>\n",
       "      <td>56.069697</td>\n",
       "    </tr>\n",
       "  </tbody>\n",
       "</table>\n",
       "</div>"
      ],
      "text/plain": [
       "         f0        f1        f2    product\n",
       "0 -1.146987  0.963328 -0.828965  27.758673\n",
       "1  0.262778  0.269839 -2.530187  56.069697"
      ]
     },
     "metadata": {},
     "output_type": "display_data"
    }
   ],
   "source": [
    "# проверим данные\n",
    "\n",
    "display(data_0.head(2))\n",
    "display(data_1.head(2))\n",
    "display(data_2.head(2))"
   ]
  },
  {
   "cell_type": "markdown",
   "id": "defeb8fd",
   "metadata": {},
   "source": [
    "## Подготовка к обучению "
   ]
  },
  {
   "cell_type": "code",
   "execution_count": 23,
   "id": "7890ce31",
   "metadata": {},
   "outputs": [],
   "source": [
    "# разделим данные на целевой признак /product/ и признаки для обучения\n",
    "\n",
    "X_0 = data_0.drop(['product'], axis=1)\n",
    "y_0 = data_0['product']\n",
    "\n",
    "X_1 = data_1.drop(['product'], axis=1)\n",
    "y_1 = data_1['product']\n",
    "\n",
    "X_2 = data_2.drop(['product'], axis=1)\n",
    "y_2 = data_2['product']"
   ]
  },
  {
   "cell_type": "code",
   "execution_count": 24,
   "id": "8c42d8b1",
   "metadata": {},
   "outputs": [],
   "source": [
    "# радзелим данные каждого датасета на обучающую и валидационную выборки в соотношении 3:1\n",
    "\n",
    "X0_train, X0_valid, y0_train, y0_valid = train_test_split(X_0, y_0, train_size=0.75, random_state=123)\n",
    "\n",
    "X1_train, X1_valid, y1_train, y1_valid = train_test_split(X_1, y_1, train_size=0.75, random_state=123)\n",
    "\n",
    "X2_train, X2_valid, y2_train, y2_valid = train_test_split(X_2, y_2, train_size=0.75, random_state=123)"
   ]
  },
  {
   "cell_type": "code",
   "execution_count": 25,
   "id": "83fd2169",
   "metadata": {},
   "outputs": [
    {
     "name": "stdout",
     "output_type": "stream",
     "text": [
      "(74992, 3)\n",
      "(74992,)\n",
      "(24998, 3)\n",
      "(24998,)\n"
     ]
    }
   ],
   "source": [
    "# проверим полученные данные\n",
    "\n",
    "print(X0_train.shape)\n",
    "print(y0_train.shape)\n",
    "print(X0_valid.shape)\n",
    "print(y0_valid.shape)"
   ]
  },
  {
   "cell_type": "markdown",
   "id": "42a81726",
   "metadata": {},
   "source": [
    "# Обучение модели"
   ]
  },
  {
   "cell_type": "markdown",
   "id": "1ac7a2c3",
   "metadata": {},
   "source": [
    "**Будем оценивать работу модели по среднему запасу предсказанного сырья и RMSE модели**\n",
    "\n",
    "т.к RMSE показывает разницу между прогнозируемыми и фактическими значениями - чем ниже RMSE, тем лучше модель работает."
   ]
  },
  {
   "cell_type": "code",
   "execution_count": 26,
   "id": "cefdcbe2",
   "metadata": {},
   "outputs": [],
   "source": [
    "lr = LinearRegression()"
   ]
  },
  {
   "cell_type": "code",
   "execution_count": 27,
   "id": "1382c9fe",
   "metadata": {},
   "outputs": [
    {
     "name": "stdout",
     "output_type": "stream",
     "text": [
      "Предсказание среднего объёма запасов первого региона -  92.68062036375521\n",
      "RMSE первого региона - 37.59580657262362\n"
     ]
    }
   ],
   "source": [
    "# датасет первого региона\n",
    "\n",
    "lr.fit(X0_train, y0_train)\n",
    "predict_0 = lr.predict(X0_valid)\n",
    "mse_0 = mean_squared_error(y0_valid, predict_0)\n",
    "rmse_0 = mse_0**0.5\n",
    "\n",
    "print('Предсказание среднего объёма запасов первого региона - ', predict_0.mean())\n",
    "print('RMSE первого региона -', rmse_0)"
   ]
  },
  {
   "cell_type": "code",
   "execution_count": 28,
   "id": "0adf9109",
   "metadata": {},
   "outputs": [
    {
     "name": "stdout",
     "output_type": "stream",
     "text": [
      "Предсказание среднего объёма запасов второго региона -  69.31422919477677\n",
      "RMSE второго региона - 0.8944711936820182\n"
     ]
    }
   ],
   "source": [
    "# датасет второго региона\n",
    "\n",
    "lr.fit(X1_train, y1_train)\n",
    "predict_1 = lr.predict(X1_valid)\n",
    "mse_1 = mean_squared_error(y1_valid, predict_1)\n",
    "rmse_1 = mse_1**0.5\n",
    "\n",
    "print('Предсказание среднего объёма запасов второго региона - ', predict_1.mean())\n",
    "print('RMSE второго региона -', rmse_1)"
   ]
  },
  {
   "cell_type": "code",
   "execution_count": 29,
   "id": "e3644023",
   "metadata": {},
   "outputs": [
    {
     "name": "stdout",
     "output_type": "stream",
     "text": [
      "Предсказание среднего объёма третьего региона -  94.93789877099006\n",
      "RMSE третьего региона - 40.04908749269797\n"
     ]
    }
   ],
   "source": [
    "# датасет третьего региона\n",
    "\n",
    "lr.fit(X2_train, y2_train)\n",
    "predict_2 = lr.predict(X2_valid)\n",
    "mse_2 = mean_squared_error(y2_valid, predict_2)\n",
    "rmse_2 = mse_2**0.5\n",
    "\n",
    "print('Предсказание среднего объёма третьего региона - ', predict_2.mean())\n",
    "print('RMSE третьего региона -', rmse_2)"
   ]
  },
  {
   "cell_type": "markdown",
   "id": "87af8925",
   "metadata": {},
   "source": [
    "<div class=\"alert alert-block alert-info\">\n",
    "\n",
    "\n",
    "**Вывод**\n",
    " \n",
    " - Второй регион показал самую минимальную ошибку предсказаний (1%), но при этом низкий предсказанный объем запасов (69 тыс бар). \n",
    " \n",
    " - Первый и третий регионы показали достаточно высокую ошибку (37% и 40%), но при этом достаточно высокий предсказанный объем запасов (92-95 тыс бар)."
   ]
  },
  {
   "cell_type": "markdown",
   "id": "38cd87d3",
   "metadata": {},
   "source": [
    "# Расчет прибыли"
   ]
  },
  {
   "cell_type": "markdown",
   "id": "2b0ff8c0",
   "metadata": {},
   "source": [
    "## Первичные расчеты "
   ]
  },
  {
   "cell_type": "markdown",
   "id": "2f409594",
   "metadata": {},
   "source": [
    "Чтобы вычислить доход со скважины - необходимо запас сырья в баррелях умножить на средний доход с одного барреля. Чтобы разработка была безубыточной - полученный доход должен превышать наш бюджет. Кроме того, учтем, что для разработки мы используем всего 200 скважин.\n",
    "\n",
    "*Формула в общем виде на основе среднего будет выглядеть так:* \n",
    "\n",
    "**BUDGET = 200 * BAR_INCOME * MEAN_PRODUCT**,  где \n",
    " - BUDGET - бюджет проекта\n",
    " - BAR_INCOME - доход с единицы сырья\n",
    " - MEAN_PRODUCT - средний объем запасов в одной скважине"
   ]
  },
  {
   "cell_type": "code",
   "execution_count": 37,
   "id": "3c0d4721",
   "metadata": {},
   "outputs": [
    {
     "name": "stdout",
     "output_type": "stream",
     "text": [
      "Необходимый запас сырья - 111 тыс баррелей\n"
     ]
    }
   ],
   "source": [
    "# необходимый запас сырья для безубыточной разработки (в тысячах)\n",
    "\n",
    "need_product = BUDGET  / (200*BAR_INCOME)\n",
    "print('Необходимый запас сырья -', int(need_product), 'тыс баррелей')"
   ]
  },
  {
   "cell_type": "markdown",
   "id": "8657963e",
   "metadata": {},
   "source": [
    "\n",
    "\n",
    "Для безубыточной разработки необходим запас минимум 111 тыс. баррелей.\n",
    "\n",
    "Наши регионы показывают следующий средний уровень запасов:"
   ]
  },
  {
   "cell_type": "code",
   "execution_count": 38,
   "id": "f3347c40",
   "metadata": {},
   "outputs": [
    {
     "name": "stdout",
     "output_type": "stream",
     "text": [
      "1 регион - 92 тыс баррелей\n",
      "1 регион - 68 тыс баррелей\n",
      "1 регион - 94 тыс баррелей\n"
     ]
    }
   ],
   "source": [
    "print('1 регион -', int(y_0.mean()), 'тыс баррелей')\n",
    "print('1 регион -', int(y_1.mean()), 'тыс баррелей')\n",
    "print('1 регион -', int(y_2.mean()), 'тыс баррелей')"
   ]
  },
  {
   "cell_type": "markdown",
   "id": "cfe93af2",
   "metadata": {},
   "source": [
    "\n",
    " \n",
    "Если использовать среднее значение скважин (то есть разрабатывать 200 скважин наугад) - бюджет не окупится. Необходимо разрабатывать только те скважины, которые покажут лучший результат"
   ]
  },
  {
   "cell_type": "markdown",
   "id": "cb39d737",
   "metadata": {},
   "source": [
    "## Функция расчёта прибыли "
   ]
  },
  {
   "cell_type": "markdown",
   "id": "e7b27b14",
   "metadata": {},
   "source": [
    "Необходимо вывести формулу, которая:\n",
    " - Отберет 200 лучших предсказанных скважин (с самым высоким объемом сырья);\n",
    " - Просуммирует общий предсказанный объем сырья в этих скважинах;\n",
    " - Рассчитает прибыль от предсказанного сырья \n",
    " \n",
    " \n",
    "Прибыль мы будем считать как:\n",
    "\n",
    " **Прибыль = Доход - Бюджет**, где **Доход = Общий объем сырья * Доход одного барреля**"
   ]
  },
  {
   "cell_type": "code",
   "execution_count": 39,
   "id": "61beb07c",
   "metadata": {},
   "outputs": [],
   "source": [
    "def total_profit(predict_income, price, cost):       # ф-я принимает предсказания, цену барреля и расходы\n",
    "    \n",
    "    best_200 = np.sort(predict_income)[::-1][:200]   # сортируем numpy массивы предсказаний и отбираем лучшие 200\n",
    "    total_barrel = best_200.sum()                    # вычисляем сумму объемов запасов 200 выбраных скважин\n",
    "    income = total_barrel * price                    # вычисляем доход 200 скважин\n",
    "    profit = income - cost                           # вычисляем прибыль \n",
    "    return profit"
   ]
  },
  {
   "cell_type": "code",
   "execution_count": 48,
   "id": "c5c42db9",
   "metadata": {},
   "outputs": [
    {
     "name": "stdout",
     "output_type": "stream",
     "text": [
      "Предсказанная прибыль от разработки:\n",
      "\n",
      "Первой регион - 3 млрд. рублей\n",
      "Второй регион - 2 млрд. рублей\n",
      "Третьей регион - 3 млрд. рублей\n"
     ]
    }
   ],
   "source": [
    "# вычислим прибыль для каждого региона в млрд. рублей\n",
    "\n",
    "profit_0 = total_profit(predict_0, BAR_INCOME, BUDGET)\n",
    "\n",
    "profit_1 = total_profit(predict_1, BAR_INCOME, BUDGET)\n",
    "\n",
    "profit_2 = total_profit(predict_2, BAR_INCOME, BUDGET)\n",
    "\n",
    "print('Предсказанная прибыль от разработки:\\n')\n",
    "print('Первой регион -', int((profit_0) // 10**9), 'млрд. рублей')\n",
    "print('Второй регион -', int((profit_1) // 10**9), 'млрд. рублей')\n",
    "print('Третьей регион -', int((profit_2) // 10**9), 'млрд. рублей')"
   ]
  },
  {
   "cell_type": "markdown",
   "id": "f254bee8",
   "metadata": {},
   "source": [
    "## Риски и прибыль "
   ]
  },
  {
   "cell_type": "markdown",
   "id": "00c8e48e",
   "metadata": {},
   "source": [
    "Вычисленная выше прибыль:\n",
    "1. Не учитывает риски ошибок,\n",
    "2. Не учитывает важное условие - раведка производится только на 500 скважинах, из которых мы затем выбираем 200 лучших\n",
    "3. Построена на предсказаниях модели, а не на реальных данных"
   ]
  },
  {
   "cell_type": "markdown",
   "id": "ababb301",
   "metadata": {},
   "source": [
    "### Средняя прибыль по Bootstrap"
   ]
  },
  {
   "cell_type": "markdown",
   "id": "ff115a16",
   "metadata": {},
   "source": [
    "Чтобы приблизиться к более реалистичным результатам используем технику Bootstrap с 1000 выборок при обучении модели для каждого региона.\n",
    "\n",
    "Для этого напишем функцию, которая:\n",
    " - Примет на вход признаки для обучения и целевые признаки\n",
    " - Разделит их на обучающую и валидационную выборку\n",
    " - Обучит модель линейной регрессии *обучение проходит по полному пакету данных для более высокого качества*\n",
    " - В цикле пройдет по 1000 подвыборкам и сохранит среднюю прибыль каждой подвыборки в список:\n",
    "    - Из валидационной выборки возьмет 500 скважин случайным образом и для признаков обучения, и для целевых признаков, *причем в целевом признаке сбросит предыдущую индексацию для дальнейшей работы*\n",
    "    - Построит предсказание на основе 500 скважин и отсортирует их по возрастанию кол-ва сырья\n",
    "    - В таком же порядке, как и предсказания (по тем же индексам) отсортирует целевые признаки - чтобы затем выбрать именно те 200 скважин, которые модель предсказала как самые богатые по сырью. Таким образом мы сможем узнать реальную, а не предсказанную прибыль.\n",
    "    - Используем функцию для вычисления прибыли, которую мы использовали ранее, дав ей на вход не предсказания, а реальные целевые признаки\n",
    "    \n",
    " - Функция вернет список прибыли в млн рублей по всем 1000 выборкам   "
   ]
  },
  {
   "cell_type": "code",
   "execution_count": 54,
   "id": "650d1e22",
   "metadata": {},
   "outputs": [],
   "source": [
    "def predict_profit(X, y): \n",
    "    \n",
    "    state = np.random.RandomState(123)\n",
    "    profit_list = [] # список с прибылью по каждой подвыборке\n",
    "    \n",
    "    X_train, X_valid, y_train, y_valid = train_test_split(X, y, train_size=0.75, random_state=123)\n",
    "    lr.fit(X_train, y_train)\n",
    "\n",
    "    for i in range(1000):\n",
    "        \n",
    "        X500 = X_valid.sample(500, replace=True, random_state=state)   # выбираем 500 скважин на валидоционной выборке-признаки\n",
    "        y500 = y_valid[X500.index].reset_index(drop=True)              # выбираем соответствующие целевые признаки (по индексам)\n",
    "                                     \n",
    "        predict = lr.predict(X500)                                        # предсказываем сырье\n",
    "        predict = pd.Series(predict).sort_values(ascending=False)[:200]   # сортируем по убыванию\n",
    "        prod200 = y500[predict.index]                                     # проставляем индексы в целевом признаке, \n",
    "                                                                          # как в предсказании\n",
    "        profit = total_profit(prod200, BAR_INCOME, BUDGET) / 10**6        # вычисляем прибыль в млн рублей             \n",
    "        profit_list.append(profit)\n",
    "    \n",
    "    return pd.Series(profit_list)"
   ]
  },
  {
   "cell_type": "code",
   "execution_count": 55,
   "id": "238f4a97",
   "metadata": {},
   "outputs": [],
   "source": [
    "# вычислим прибыль для каждого региона\n",
    "\n",
    "profit_list_0 = predict_profit(X_0,y_0)\n",
    "profit_0 = sum(profit_list_0) / len(profit_list_0)\n",
    "\n",
    "profit_list_1 = predict_profit(X_1,y_1)\n",
    "profit_1 = sum(profit_list_1) / len(profit_list_1)\n",
    "\n",
    "profit_list_2 = predict_profit(X_2,y_2)\n",
    "profit_2 = sum(profit_list_2) / len(profit_list_2)"
   ]
  },
  {
   "cell_type": "code",
   "execution_count": 56,
   "id": "112c8a7f",
   "metadata": {},
   "outputs": [
    {
     "name": "stdout",
     "output_type": "stream",
     "text": [
      "Средняя прибыль первого региона -  394 млн рублей\n",
      "Средняя прибыль второго региона -  488 млн рублей\n",
      "Средняя прибыль третьего региона -  344 млн рублей\n"
     ]
    }
   ],
   "source": [
    "print('Средняя прибыль первого региона - ', int(profit_0), 'млн рублей')\n",
    "print('Средняя прибыль второго региона - ', int(profit_1), 'млн рублей')\n",
    "print('Средняя прибыль третьего региона - ', int(profit_2), 'млн рублей')"
   ]
  },
  {
   "cell_type": "markdown",
   "id": "801a0616",
   "metadata": {},
   "source": [
    "<div class=\"alert alert-block alert-info\">\n",
    "\n",
    "\n",
    "Как мы видим, разница в предсказанных и реальных показателях достаточно внушительная:\n",
    " - 1 и 3 регион - 2.5 млрд\n",
    " - 2 регион - 1.5 млрд"
   ]
  },
  {
   "cell_type": "markdown",
   "id": "014a5e44",
   "metadata": {},
   "source": [
    "### Доверительный интервал "
   ]
  },
  {
   "cell_type": "markdown",
   "id": "75174ed4",
   "metadata": {},
   "source": [
    "Вычислим 95% доверительный интервал - в нем с верятностью 95% будет находиться нужное нам среднее прибыли."
   ]
  },
  {
   "cell_type": "code",
   "execution_count": 57,
   "id": "06dbdf1f",
   "metadata": {},
   "outputs": [
    {
     "data": {
      "text/plain": [
       "(378.6734054307905, 411.00935948199555)"
      ]
     },
     "execution_count": 57,
     "metadata": {},
     "output_type": "execute_result"
    }
   ],
   "source": [
    "# первый регион\n",
    "\n",
    "interval_0 = st.t.interval(0.95, len(profit_list_0)-1, profit_0, profit_list_0.sem())\n",
    "interval_0"
   ]
  },
  {
   "cell_type": "code",
   "execution_count": 58,
   "id": "7895569f",
   "metadata": {},
   "outputs": [
    {
     "data": {
      "text/plain": [
       "(475.58422661436816, 501.2235429548932)"
      ]
     },
     "execution_count": 58,
     "metadata": {},
     "output_type": "execute_result"
    }
   ],
   "source": [
    "# второй регион\n",
    "\n",
    "interval_1 = st.t.interval(0.95, len(profit_list_1)-1, profit_1, profit_list_1.sem())\n",
    "interval_1"
   ]
  },
  {
   "cell_type": "code",
   "execution_count": 59,
   "id": "28573a9b",
   "metadata": {},
   "outputs": [
    {
     "data": {
      "text/plain": [
       "(327.14555867360514, 361.18179711372113)"
      ]
     },
     "execution_count": 59,
     "metadata": {},
     "output_type": "execute_result"
    }
   ],
   "source": [
    "# третий регион\n",
    "\n",
    "interval_2 = st.t.interval(0.95, len(profit_list_2)-1, profit_2, profit_list_2.sem())\n",
    "interval_2"
   ]
  },
  {
   "cell_type": "markdown",
   "id": "fd98f540",
   "metadata": {},
   "source": [
    "<div class=\"alert alert-block alert-info\">\n",
    "\n",
    "\n",
    " - Самую максимальную прибыль показал второй регион.\n",
    " - На втором месте первый регион, в третьем регионе прибыль меньше всего."
   ]
  },
  {
   "cell_type": "markdown",
   "id": "517c6756",
   "metadata": {},
   "source": [
    "### Риски "
   ]
  },
  {
   "cell_type": "markdown",
   "id": "c529ad95",
   "metadata": {},
   "source": [
    "<div class=\"alert alert-block alert-info\">\n",
    "\n",
    "\n",
    " - Для оценки рисков посмотрим, нет ли в полученных результатах отрицательной прибыли (убытка) и в каком соотношении она есть.\n",
    " - Кроме того, вычислим 2.5% квантиль прибыли, чтобы узнать своеобразную 'минимальную' прибыль - если он окажется отрицательным, регион точно не подходит для добычи. \n",
    " - А также вычислим 97.5% квантиль, чтобы оценить максимальную прибыль региона"
   ]
  },
  {
   "cell_type": "markdown",
   "id": "f36a6925",
   "metadata": {},
   "source": [
    "Для упрощения работы составим функцию - она примет на вход список с полученной ранее прибылью, а вернет 2.5% квантиль и риск как соотношение отрицательных единиц прибыли к общему числу единиц прибыли."
   ]
  },
  {
   "cell_type": "code",
   "execution_count": 67,
   "id": "7b11fc05",
   "metadata": {},
   "outputs": [],
   "source": [
    "def risk(series):\n",
    "    q_025 = series.quantile(0.025)       # сохраняем значение 2.5% квантиля\n",
    "    q_975 = series.quantile(0.975)      # сохраняем значение 97.5% квантиля\n",
    "    \n",
    "    count = 0\n",
    "    for p in series:                     # в цикле проходим по всем значениям прибыли и увеличиваем счетчик,\n",
    "        if p <= 0:                       # если она отрицательна\n",
    "            count +=1\n",
    "    risk = count / len(series)           # считаем уровень риска \n",
    "    \n",
    "    return q_025, q_975, risk*100"
   ]
  },
  {
   "cell_type": "code",
   "execution_count": 71,
   "id": "2ab7d827",
   "metadata": {},
   "outputs": [
    {
     "data": {
      "text/plain": [
       "0   -2\n",
       "1   -1\n",
       "2    4\n",
       "3    5\n",
       "dtype: int64"
      ]
     },
     "metadata": {},
     "output_type": "display_data"
    },
    {
     "data": {
      "text/plain": [
       "'Риск убытков = 50.00% '"
      ]
     },
     "execution_count": 71,
     "metadata": {},
     "output_type": "execute_result"
    }
   ],
   "source": [
    "#ячейка ревьюера\n",
    "\n",
    "display(pd.Series([-2, -1, 4, 5]))\n",
    "'Риск убытков = {:.2%} '.format((pd.Series([-2, -1, 4, 5])<0).mean())"
   ]
  },
  {
   "cell_type": "code",
   "execution_count": 77,
   "id": "31bc687b",
   "metadata": {
    "scrolled": true
   },
   "outputs": [
    {
     "name": "stdout",
     "output_type": "stream",
     "text": [
      "2,5% квантиль первого региона - -131 млн\n",
      "97,5% квантиль первого региона - 900 млн\n",
      "Риск первого региона - 6.7 %\n"
     ]
    }
   ],
   "source": [
    "# первый регион\n",
    "\n",
    "q0_min, q0_max, risk_0 = risk(profit_list_0)\n",
    "\n",
    "print('2,5% квантиль первого региона -', int(q0_min), 'млн')\n",
    "print('97,5% квантиль первого региона -', int(q0_max), 'млн')\n",
    "print('Риск первого региона -', risk_0, '%')"
   ]
  },
  {
   "cell_type": "code",
   "execution_count": 76,
   "id": "bfa5466d",
   "metadata": {},
   "outputs": [
    {
     "name": "stdout",
     "output_type": "stream",
     "text": [
      "2,5% квантиль второго региона - 79 млн\n",
      "97,5% квантиль второго региона - 883 млн\n",
      "Риск второго региона - 0.8 %\n"
     ]
    }
   ],
   "source": [
    "# второй регион\n",
    "\n",
    "q1_min, q1_max, risk_1 = risk(profit_list_1)\n",
    "\n",
    "print('2,5% квантиль второго региона -', int(q1_min), 'млн')\n",
    "print('97,5% квантиль второго региона -', int(q1_max), 'млн')\n",
    "print('Риск второго региона -', risk_1, '%')"
   ]
  },
  {
   "cell_type": "code",
   "execution_count": 79,
   "id": "30aa9842",
   "metadata": {},
   "outputs": [
    {
     "name": "stdout",
     "output_type": "stream",
     "text": [
      "2,5% квантиль первого региона - -209 млн\n",
      "97,5% квантиль первого региона - 840 млн\n",
      "Риск первого региона - 10.7 %\n"
     ]
    }
   ],
   "source": [
    "# третий регион\n",
    "\n",
    "q2_min, q2_max, risk_2 = risk(profit_list_2)\n",
    "\n",
    "print('2,5% квантиль первого региона -', int(q2_min), 'млн')\n",
    "print('97,5% квантиль первого региона -', int(q2_max), 'млн')\n",
    "print('Риск первого региона -', risk_2, '%')"
   ]
  },
  {
   "cell_type": "markdown",
   "id": "1f486faa",
   "metadata": {},
   "source": [
    "<div class=\"alert alert-block alert-info\"> \n",
    "    \n",
    " - Первый и третий регионы в 2.5% квантиле показали отрицательную прибыль и, соответственно, самый высокий уровень риска. \n",
    " - Второй регион показал уровень риска чуть менее 1%, его минимальная прибыль составит 79 млн рублей, а максимальная - 883 млн"
   ]
  },
  {
   "cell_type": "markdown",
   "id": "341050fe",
   "metadata": {},
   "source": [
    "# Общий вывод"
   ]
  },
  {
   "cell_type": "markdown",
   "id": "5d1953dc",
   "metadata": {},
   "source": [
    "<div class=\"alert alert-block alert-warning\">\n",
    "\n",
    "\n",
    "**ПОДЫТОЖИМ РЕЗУЛЬТАТЫ**\n",
    "\n",
    "**Ошибка модели**\n",
    "\n",
    "При обучении и предсказании модели мы получили следующий RMSE по регионам (разницу между прогнозируемыми и фактическими значениями - условно ошибку в предсказании):\n",
    "\n",
    " - 1 регион - 37\n",
    " - 2 регион - 0.9\n",
    " - 3 регион - 40\n",
    "\n",
    "\n",
    "**Запас одной скважины**\n",
    "\n",
    "Необходимый средний запас сырья в скважине для окупаемости - 111 тыс баррелей\n",
    "\n",
    "Регионы показали следующий средний уровень запасов по предсказанию:\n",
    " - 1 регион - 92 тыс\n",
    " - 2 регион - 68 тыс\n",
    " - 3 регион - 94 тыс\n",
    "\n",
    "*Если использовать среднее значение скважин (то есть разрабатывать 200 скважин наугад) - бюджет не окупится. Необходимо разрабатывать только те скважины, которые покажут лучший результат*\n",
    "    \n",
    "    \n",
    "**Общая прибыль**\n",
    "\n",
    "Предсказанная прибыль от разработки:\n",
    "\n",
    " - 1 регион - 3 млрд. рублей\n",
    " - 2 регион - 2 млрд. рублей\n",
    " - 3 регион - 3 млрд. рублей\n",
    "\n",
    "Реальная средняя прибыль:\n",
    "\n",
    "  - 1 регион - 394 млн рублей\n",
    "  - 2 регион - 482 млн рублей\n",
    "  - 3 регион - 344 млн рублей\n",
    "  \n",
    "*Как мы видим, разница в предсказанных и реальных показателях достаточно значительная: для 1 и 3 регион - 2.5 млрд, для 2 региона - 1.5 млрд*\n",
    "    \n",
    "\n",
    "**Риски и минимальные прибыли**\n",
    "\n",
    " - Первый и третий регион показали риск убытков в 6% и 10% соответственно, в них возможны убытки - с вероятностью 2.5% прибыль будет на уровне минус 130 и 200 млн рублей для каждого региона.\n",
    " - Второй регион имеет риск чуть менее 1%, его минимальная прибыль 79 млн рублей\n",
    "    \n",
    "    \n",
    "**РЕКОМЕНДАЦИИ**\n",
    " \n",
    "Лучшие показатели продемонстрировал второй регион.\n",
    "    \n",
    "  Положительные стороны региона:\n",
    " - минимальная ошибка при предсказании модели (RMSE) - менее 1%\n",
    " - минимальный риск убытков - менее 1%\n",
    " - средний уровень прибыли 482 млн рублей ('минимум' - 79 млн, 'максимум' - 883 млн) \n",
    "    \n",
    "  На что стоит обратить внимание:\n",
    " - в распределении кол-ва сырья выделяется его большое скопление на минимуме и максимуме, кроме того, реальный средний уровень сырья в скважине меньше, чем нужно для безубыточной работы - поэтому необходима хорошая работа модели для предсказания скважин, чтобы выбирать лучшие для разработки с минимальной ошибкой (сейчас доля ошибки минимальна).\n",
    " \n",
    "*Таким образом, предпочтительней остановить свой выбор на втором регионе разработки*"
   ]
  }
 ],
 "metadata": {
  "ExecuteTimeLog": [
   {
    "duration": 1467,
    "start_time": "2022-12-21T11:20:08.677Z"
   },
   {
    "duration": 908,
    "start_time": "2022-12-21T11:20:10.146Z"
   },
   {
    "duration": 2,
    "start_time": "2022-12-21T11:20:11.056Z"
   },
   {
    "duration": 23,
    "start_time": "2022-12-21T11:20:11.061Z"
   },
   {
    "duration": 8,
    "start_time": "2022-12-21T11:20:11.086Z"
   },
   {
    "duration": 10,
    "start_time": "2022-12-21T11:20:11.095Z"
   },
   {
    "duration": 25,
    "start_time": "2022-12-21T11:20:11.106Z"
   },
   {
    "duration": 12,
    "start_time": "2022-12-21T11:20:11.133Z"
   },
   {
    "duration": 12,
    "start_time": "2022-12-21T11:20:11.146Z"
   },
   {
    "duration": 7,
    "start_time": "2022-12-21T11:20:11.160Z"
   },
   {
    "duration": 22,
    "start_time": "2022-12-21T11:20:11.169Z"
   },
   {
    "duration": 35,
    "start_time": "2022-12-21T11:20:11.192Z"
   },
   {
    "duration": 34,
    "start_time": "2022-12-21T11:20:11.229Z"
   },
   {
    "duration": 4,
    "start_time": "2022-12-21T11:20:11.265Z"
   },
   {
    "duration": 9,
    "start_time": "2022-12-21T11:20:11.270Z"
   },
   {
    "duration": 49,
    "start_time": "2022-12-21T11:20:11.280Z"
   },
   {
    "duration": 104,
    "start_time": "2022-12-21T11:20:11.331Z"
   },
   {
    "duration": 289,
    "start_time": "2022-12-21T11:20:11.437Z"
   },
   {
    "duration": 97,
    "start_time": "2022-12-21T11:20:11.731Z"
   },
   {
    "duration": 12,
    "start_time": "2022-12-21T11:20:11.831Z"
   },
   {
    "duration": 9,
    "start_time": "2022-12-21T11:20:11.846Z"
   },
   {
    "duration": 14,
    "start_time": "2022-12-21T11:20:11.857Z"
   },
   {
    "duration": 11,
    "start_time": "2022-12-21T11:20:11.872Z"
   },
   {
    "duration": 6236,
    "start_time": "2022-12-21T11:20:11.884Z"
   },
   {
    "duration": 6,
    "start_time": "2022-12-21T11:20:18.121Z"
   },
   {
    "duration": 14,
    "start_time": "2022-12-21T11:20:18.129Z"
   },
   {
    "duration": 9,
    "start_time": "2022-12-21T11:20:18.144Z"
   },
   {
    "duration": 6,
    "start_time": "2022-12-21T11:20:18.156Z"
   },
   {
    "duration": 4,
    "start_time": "2022-12-21T11:20:18.164Z"
   },
   {
    "duration": 16,
    "start_time": "2022-12-21T11:20:18.170Z"
   },
   {
    "duration": 10,
    "start_time": "2022-12-21T11:20:18.188Z"
   },
   {
    "duration": 13,
    "start_time": "2022-12-21T11:20:18.199Z"
   },
   {
    "duration": 4,
    "start_time": "2022-12-21T11:20:34.477Z"
   },
   {
    "duration": 4,
    "start_time": "2022-12-21T11:20:43.852Z"
   },
   {
    "duration": 4,
    "start_time": "2022-12-21T11:20:54.871Z"
   },
   {
    "duration": 6,
    "start_time": "2022-12-21T11:21:05.420Z"
   },
   {
    "duration": 5,
    "start_time": "2022-12-21T11:21:22.339Z"
   },
   {
    "duration": 5,
    "start_time": "2022-12-21T11:58:43.462Z"
   },
   {
    "duration": 6056,
    "start_time": "2022-12-21T11:58:49.363Z"
   },
   {
    "duration": 4,
    "start_time": "2022-12-21T11:58:58.058Z"
   },
   {
    "duration": 6,
    "start_time": "2022-12-21T12:01:42.804Z"
   },
   {
    "duration": 6,
    "start_time": "2022-12-21T12:01:45.514Z"
   },
   {
    "duration": 6,
    "start_time": "2022-12-21T12:01:47.585Z"
   },
   {
    "duration": 85,
    "start_time": "2022-12-21T12:02:32.758Z"
   },
   {
    "duration": 6,
    "start_time": "2022-12-21T12:02:53.285Z"
   },
   {
    "duration": 5,
    "start_time": "2022-12-21T12:03:02.658Z"
   },
   {
    "duration": 5,
    "start_time": "2022-12-21T12:03:06.878Z"
   },
   {
    "duration": 4,
    "start_time": "2022-12-21T12:07:18.916Z"
   },
   {
    "duration": 6,
    "start_time": "2022-12-21T12:07:20.622Z"
   },
   {
    "duration": 6,
    "start_time": "2022-12-21T12:07:25.302Z"
   },
   {
    "duration": 5,
    "start_time": "2022-12-21T12:07:27.594Z"
   },
   {
    "duration": 1569,
    "start_time": "2022-12-21T12:10:29.895Z"
   },
   {
    "duration": 1198,
    "start_time": "2022-12-21T12:10:31.466Z"
   },
   {
    "duration": 2,
    "start_time": "2022-12-21T12:10:32.666Z"
   },
   {
    "duration": 18,
    "start_time": "2022-12-21T12:10:32.670Z"
   },
   {
    "duration": 8,
    "start_time": "2022-12-21T12:10:32.689Z"
   },
   {
    "duration": 11,
    "start_time": "2022-12-21T12:10:32.699Z"
   },
   {
    "duration": 26,
    "start_time": "2022-12-21T12:10:32.711Z"
   },
   {
    "duration": 13,
    "start_time": "2022-12-21T12:10:32.739Z"
   },
   {
    "duration": 12,
    "start_time": "2022-12-21T12:10:32.753Z"
   },
   {
    "duration": 20,
    "start_time": "2022-12-21T12:10:32.767Z"
   },
   {
    "duration": 36,
    "start_time": "2022-12-21T12:10:32.788Z"
   },
   {
    "duration": 17,
    "start_time": "2022-12-21T12:10:32.826Z"
   },
   {
    "duration": 67,
    "start_time": "2022-12-21T12:10:32.844Z"
   },
   {
    "duration": 4,
    "start_time": "2022-12-21T12:10:32.913Z"
   },
   {
    "duration": 23,
    "start_time": "2022-12-21T12:10:32.919Z"
   },
   {
    "duration": 30,
    "start_time": "2022-12-21T12:10:32.944Z"
   },
   {
    "duration": 162,
    "start_time": "2022-12-21T12:10:32.975Z"
   },
   {
    "duration": 199,
    "start_time": "2022-12-21T12:10:33.138Z"
   },
   {
    "duration": 201,
    "start_time": "2022-12-21T12:10:33.338Z"
   },
   {
    "duration": 21,
    "start_time": "2022-12-21T12:10:33.540Z"
   },
   {
    "duration": 21,
    "start_time": "2022-12-21T12:10:33.563Z"
   },
   {
    "duration": 27,
    "start_time": "2022-12-21T12:10:33.585Z"
   },
   {
    "duration": 22,
    "start_time": "2022-12-21T12:10:33.614Z"
   },
   {
    "duration": 6338,
    "start_time": "2022-12-21T12:10:33.637Z"
   },
   {
    "duration": 4,
    "start_time": "2022-12-21T12:10:39.977Z"
   },
   {
    "duration": 7,
    "start_time": "2022-12-21T12:10:39.983Z"
   },
   {
    "duration": 12,
    "start_time": "2022-12-21T12:10:39.992Z"
   },
   {
    "duration": 22,
    "start_time": "2022-12-21T12:10:40.006Z"
   },
   {
    "duration": 16,
    "start_time": "2022-12-21T12:10:40.030Z"
   },
   {
    "duration": 12,
    "start_time": "2022-12-21T12:10:40.048Z"
   },
   {
    "duration": 19,
    "start_time": "2022-12-21T12:10:40.062Z"
   },
   {
    "duration": 9,
    "start_time": "2022-12-21T12:10:40.083Z"
   },
   {
    "duration": 1573,
    "start_time": "2022-12-21T12:11:42.759Z"
   },
   {
    "duration": 896,
    "start_time": "2022-12-21T12:11:44.334Z"
   },
   {
    "duration": 2,
    "start_time": "2022-12-21T12:11:45.231Z"
   },
   {
    "duration": 17,
    "start_time": "2022-12-21T12:11:45.235Z"
   },
   {
    "duration": 20,
    "start_time": "2022-12-21T12:11:45.254Z"
   },
   {
    "duration": 24,
    "start_time": "2022-12-21T12:11:45.276Z"
   },
   {
    "duration": 18,
    "start_time": "2022-12-21T12:11:45.302Z"
   },
   {
    "duration": 12,
    "start_time": "2022-12-21T12:11:45.322Z"
   },
   {
    "duration": 13,
    "start_time": "2022-12-21T12:11:45.336Z"
   },
   {
    "duration": 9,
    "start_time": "2022-12-21T12:11:45.352Z"
   },
   {
    "duration": 27,
    "start_time": "2022-12-21T12:11:45.364Z"
   },
   {
    "duration": 8,
    "start_time": "2022-12-21T12:11:45.393Z"
   },
   {
    "duration": 48,
    "start_time": "2022-12-21T12:11:45.402Z"
   },
   {
    "duration": 4,
    "start_time": "2022-12-21T12:11:45.452Z"
   },
   {
    "duration": 5,
    "start_time": "2022-12-21T12:11:45.457Z"
   },
   {
    "duration": 17,
    "start_time": "2022-12-21T12:11:45.464Z"
   },
   {
    "duration": 57,
    "start_time": "2022-12-21T12:11:45.483Z"
   },
   {
    "duration": 102,
    "start_time": "2022-12-21T12:11:45.626Z"
   },
   {
    "duration": 7,
    "start_time": "2022-12-21T12:11:45.729Z"
   },
   {
    "duration": 98,
    "start_time": "2022-12-21T12:11:45.738Z"
   },
   {
    "duration": 26,
    "start_time": "2022-12-21T12:11:45.838Z"
   },
   {
    "duration": 15,
    "start_time": "2022-12-21T12:11:45.865Z"
   },
   {
    "duration": 4,
    "start_time": "2022-12-21T12:11:45.882Z"
   },
   {
    "duration": 6185,
    "start_time": "2022-12-21T12:11:45.888Z"
   },
   {
    "duration": 4,
    "start_time": "2022-12-21T12:11:52.074Z"
   },
   {
    "duration": 14,
    "start_time": "2022-12-21T12:11:52.079Z"
   },
   {
    "duration": 15,
    "start_time": "2022-12-21T12:11:52.094Z"
   },
   {
    "duration": 12,
    "start_time": "2022-12-21T12:11:52.112Z"
   },
   {
    "duration": 10,
    "start_time": "2022-12-21T12:11:52.125Z"
   },
   {
    "duration": 11,
    "start_time": "2022-12-21T12:11:52.136Z"
   },
   {
    "duration": 11,
    "start_time": "2022-12-21T12:11:52.148Z"
   },
   {
    "duration": 7,
    "start_time": "2022-12-21T12:11:52.160Z"
   },
   {
    "duration": 10,
    "start_time": "2022-12-21T12:23:39.819Z"
   },
   {
    "duration": 1537,
    "start_time": "2022-12-21T12:30:14.589Z"
   },
   {
    "duration": 1054,
    "start_time": "2022-12-21T12:30:16.127Z"
   },
   {
    "duration": 3,
    "start_time": "2022-12-21T12:30:17.182Z"
   },
   {
    "duration": 36,
    "start_time": "2022-12-21T12:30:17.187Z"
   },
   {
    "duration": 20,
    "start_time": "2022-12-21T12:30:17.225Z"
   },
   {
    "duration": 38,
    "start_time": "2022-12-21T12:30:17.247Z"
   },
   {
    "duration": 37,
    "start_time": "2022-12-21T12:30:17.287Z"
   },
   {
    "duration": 44,
    "start_time": "2022-12-21T12:30:17.326Z"
   },
   {
    "duration": 33,
    "start_time": "2022-12-21T12:30:17.372Z"
   },
   {
    "duration": 17,
    "start_time": "2022-12-21T12:30:17.407Z"
   },
   {
    "duration": 25,
    "start_time": "2022-12-21T12:30:17.425Z"
   },
   {
    "duration": 17,
    "start_time": "2022-12-21T12:30:17.452Z"
   },
   {
    "duration": 59,
    "start_time": "2022-12-21T12:30:17.471Z"
   },
   {
    "duration": 4,
    "start_time": "2022-12-21T12:30:17.531Z"
   },
   {
    "duration": 28,
    "start_time": "2022-12-21T12:30:17.536Z"
   },
   {
    "duration": 24,
    "start_time": "2022-12-21T12:30:17.566Z"
   },
   {
    "duration": 153,
    "start_time": "2022-12-21T12:30:17.591Z"
   },
   {
    "duration": 185,
    "start_time": "2022-12-21T12:30:17.746Z"
   },
   {
    "duration": 112,
    "start_time": "2022-12-21T12:30:17.936Z"
   },
   {
    "duration": 29,
    "start_time": "2022-12-21T12:30:18.049Z"
   },
   {
    "duration": 19,
    "start_time": "2022-12-21T12:30:18.079Z"
   },
   {
    "duration": 43,
    "start_time": "2022-12-21T12:30:18.099Z"
   },
   {
    "duration": 21,
    "start_time": "2022-12-21T12:30:18.144Z"
   },
   {
    "duration": 6246,
    "start_time": "2022-12-21T12:30:18.166Z"
   },
   {
    "duration": 4,
    "start_time": "2022-12-21T12:30:24.413Z"
   },
   {
    "duration": 5,
    "start_time": "2022-12-21T12:30:24.425Z"
   },
   {
    "duration": 14,
    "start_time": "2022-12-21T12:30:24.432Z"
   },
   {
    "duration": 7,
    "start_time": "2022-12-21T12:30:24.448Z"
   },
   {
    "duration": 7,
    "start_time": "2022-12-21T12:30:24.456Z"
   },
   {
    "duration": 15,
    "start_time": "2022-12-21T12:30:24.464Z"
   },
   {
    "duration": 10,
    "start_time": "2022-12-21T12:30:24.481Z"
   },
   {
    "duration": 7,
    "start_time": "2022-12-21T12:30:24.492Z"
   },
   {
    "duration": 11,
    "start_time": "2022-12-21T12:30:24.500Z"
   }
  ],
  "kernelspec": {
   "display_name": "Python 3 (ipykernel)",
   "language": "python",
   "name": "python3"
  },
  "language_info": {
   "codemirror_mode": {
    "name": "ipython",
    "version": 3
   },
   "file_extension": ".py",
   "mimetype": "text/x-python",
   "name": "python",
   "nbconvert_exporter": "python",
   "pygments_lexer": "ipython3",
   "version": "3.9.12"
  },
  "toc": {
   "base_numbering": 1,
   "nav_menu": {},
   "number_sections": true,
   "sideBar": true,
   "skip_h1_title": false,
   "title_cell": "Table of Contents",
   "title_sidebar": "Contents",
   "toc_cell": false,
   "toc_position": {
    "height": "calc(100% - 180px)",
    "left": "10px",
    "top": "150px",
    "width": "306.825px"
   },
   "toc_section_display": true,
   "toc_window_display": true
  }
 },
 "nbformat": 4,
 "nbformat_minor": 5
}
